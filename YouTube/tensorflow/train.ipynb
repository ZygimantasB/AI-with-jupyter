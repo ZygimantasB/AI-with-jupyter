{
 "cells": [
  {
   "metadata": {},
   "cell_type": "markdown",
   "source": "# https://www.youtube.com/watch?v=4uHsEgmiI-Y&list=PLxhYs0VkONL9h5zHZXNntPqLC1JVg9pxX&index=145",
   "id": "c1d27cc721ea5594"
  },
  {
   "cell_type": "code",
   "id": "initial_id",
   "metadata": {
    "collapsed": true,
    "ExecuteTime": {
     "end_time": "2024-09-15T20:03:29.919028Z",
     "start_time": "2024-09-15T20:03:29.915522Z"
    }
   },
   "source": [
    "from tensorflow.keras.models import Sequential\n",
    "from tensorflow.keras.layers import Dense, Flatten, Dropout\n",
    "from tensorflow.keras.optimizers import Adam\n",
    "from tensorflow.keras.datasets import mnist\n",
    "from tensorflow.keras.callbacks import ModelCheckpoint, EarlyStopping, TensorBoard, Callback\n",
    "\n"
   ],
   "outputs": [],
   "execution_count": 37
  },
  {
   "metadata": {
    "ExecuteTime": {
     "end_time": "2024-09-15T19:40:46.004349Z",
     "start_time": "2024-09-15T19:40:44.983305Z"
    }
   },
   "cell_type": "code",
   "source": "(X_train, y_train), (X_test, y_test) = mnist.load_data()",
   "id": "1a74e2c3eb1b7203",
   "outputs": [
    {
     "name": "stdout",
     "output_type": "stream",
     "text": [
      "Downloading data from https://storage.googleapis.com/tensorflow/tf-keras-datasets/mnist.npz\n",
      "\u001B[1m11490434/11490434\u001B[0m \u001B[32m━━━━━━━━━━━━━━━━━━━━\u001B[0m\u001B[37m\u001B[0m \u001B[1m1s\u001B[0m 0us/step\n"
     ]
    }
   ],
   "execution_count": 2
  },
  {
   "metadata": {
    "ExecuteTime": {
     "end_time": "2024-09-15T19:41:04.239279Z",
     "start_time": "2024-09-15T19:41:04.083253Z"
    }
   },
   "cell_type": "code",
   "source": "X_train, X_test = X_train / 255.0, X_test / 255.0",
   "id": "94c50fc3db61e1ef",
   "outputs": [],
   "execution_count": 3
  },
  {
   "metadata": {
    "ExecuteTime": {
     "end_time": "2024-09-15T19:43:00.916068Z",
     "start_time": "2024-09-15T19:43:00.895073Z"
    }
   },
   "cell_type": "code",
   "source": [
    "model = Sequential([\n",
    "    Flatten(input_shape=(28, 28)),\n",
    "    Dense(128, activation='relu'),\n",
    "    Dropout(0.2),\n",
    "    Dense(10, activation='softmax')\n",
    "])\n",
    "\n",
    "model.compile(optimizer=Adam(learning_rate=0.01), loss='sparse_categorical_crossentropy', metrics=['accuracy'])"
   ],
   "id": "8d4a55fa5b08faff",
   "outputs": [],
   "execution_count": 5
  },
  {
   "metadata": {
    "ExecuteTime": {
     "end_time": "2024-09-15T19:48:03.625276Z",
     "start_time": "2024-09-15T19:48:03.621556Z"
    }
   },
   "cell_type": "code",
   "source": [
    "model_checkpoint = ModelCheckpoint(\n",
    "    'model.keras',\n",
    "    verbose=2,\n",
    "    save_best_only=True,\n",
    ")"
   ],
   "id": "353be50a343ccfa",
   "outputs": [],
   "execution_count": 10
  },
  {
   "metadata": {
    "ExecuteTime": {
     "end_time": "2024-09-15T19:51:47.632071Z",
     "start_time": "2024-09-15T19:51:47.628569Z"
    }
   },
   "cell_type": "code",
   "source": [
    "early_stopping_cb = EarlyStopping(\n",
    "    patience=2,\n",
    "    # verbose=2,\n",
    ")"
   ],
   "id": "8cd697e3bb579328",
   "outputs": [],
   "execution_count": 18
  },
  {
   "metadata": {
    "ExecuteTime": {
     "end_time": "2024-09-15T19:55:45.124207Z",
     "start_time": "2024-09-15T19:55:45.120210Z"
    }
   },
   "cell_type": "code",
   "source": [
    "import math\n",
    "from tensorflow.keras.callbacks import LearningRateScheduler\n",
    "\n",
    "def scheduler(epoch, learning_rate):\n",
    "    print(f'Epoch: {epoch}, Learning Rate: {learning_rate}')\n",
    "    if epoch < 5:\n",
    "        return learning_rate\n",
    "    else:\n",
    "        return learning_rate * math.exp(-0.1)\n",
    "\n",
    "lr_scheduler_cb = LearningRateScheduler(scheduler)"
   ],
   "id": "cff3b8d16e9b38fc",
   "outputs": [],
   "execution_count": 27
  },
  {
   "metadata": {
    "ExecuteTime": {
     "end_time": "2024-09-15T20:06:32.200476Z",
     "start_time": "2024-09-15T20:06:32.196567Z"
    }
   },
   "cell_type": "code",
   "source": [
    "class CustomLogger(Callback):\n",
    "    def __init__(self, logfile):\n",
    "        super().__init__()\n",
    "        self.logfile = logfile\n",
    "        \n",
    "    def on_epoch_end(self, epoch, logs):\n",
    "        with open(self.logfile, 'a') as f:\n",
    "            f.write(f'Epoch: {epoch}, Loss: {logs[\"loss\"]}, Accuracy: {logs[\"accuracy\"]}, Val Loss: {logs[\"val_loss\"]}, Val Accuracy: {logs[\"val_accuracy\"]}\\n')"
   ],
   "id": "e5d5a61509bc35d1",
   "outputs": [],
   "execution_count": 38
  },
  {
   "metadata": {
    "ExecuteTime": {
     "end_time": "2024-09-15T20:06:32.875059Z",
     "start_time": "2024-09-15T20:06:32.871555Z"
    }
   },
   "cell_type": "code",
   "source": "custom_logger_cb = CustomLogger('log.txt')",
   "id": "703e06c2e5bcc4d2",
   "outputs": [],
   "execution_count": 39
  },
  {
   "metadata": {
    "ExecuteTime": {
     "end_time": "2024-09-15T20:06:34.960993Z",
     "start_time": "2024-09-15T20:06:34.957990Z"
    }
   },
   "cell_type": "code",
   "source": [
    "tensorboard_cb = TensorBoard(\n",
    "    'logs',\n",
    "    update_freq=1,\n",
    ")"
   ],
   "id": "c0934fee194a0367",
   "outputs": [],
   "execution_count": 40
  },
  {
   "metadata": {
    "ExecuteTime": {
     "end_time": "2024-09-15T20:06:41.937744Z",
     "start_time": "2024-09-15T20:06:37.673425Z"
    }
   },
   "cell_type": "code",
   "source": "model.fit(X_train, y_train, epochs=50, validation_data=(X_test, y_test), callbacks=[model_checkpoint, early_stopping_cb, lr_scheduler_cb])",
   "id": "fb11025c13ac5d1b",
   "outputs": [
    {
     "name": "stdout",
     "output_type": "stream",
     "text": [
      "Epoch: 0, Learning Rate: 0.009999999776482582\n",
      "Epoch 1/50\n",
      "\u001B[1m1856/1875\u001B[0m \u001B[32m━━━━━━━━━━━━━━━━━━━\u001B[0m\u001B[37m━\u001B[0m \u001B[1m0s\u001B[0m 955us/step - accuracy: 0.9711 - loss: 0.1301\n",
      "Epoch 1: val_loss did not improve from 0.19729\n",
      "\u001B[1m1875/1875\u001B[0m \u001B[32m━━━━━━━━━━━━━━━━━━━━\u001B[0m\u001B[37m\u001B[0m \u001B[1m2s\u001B[0m 1ms/step - accuracy: 0.9711 - loss: 0.1302 - val_accuracy: 0.9657 - val_loss: 0.4288 - learning_rate: 0.0100\n",
      "Epoch: 1, Learning Rate: 0.009999999776482582\n",
      "Epoch 2/50\n",
      "\u001B[1m1859/1875\u001B[0m \u001B[32m━━━━━━━━━━━━━━━━━━━\u001B[0m\u001B[37m━\u001B[0m \u001B[1m0s\u001B[0m 952us/step - accuracy: 0.9725 - loss: 0.1265\n",
      "Epoch 2: val_loss did not improve from 0.19729\n",
      "\u001B[1m1875/1875\u001B[0m \u001B[32m━━━━━━━━━━━━━━━━━━━━\u001B[0m\u001B[37m\u001B[0m \u001B[1m2s\u001B[0m 1ms/step - accuracy: 0.9725 - loss: 0.1265 - val_accuracy: 0.9641 - val_loss: 0.4253 - learning_rate: 0.0100\n"
     ]
    },
    {
     "data": {
      "text/plain": [
       "<keras.src.callbacks.history.History at 0x1ebd0169670>"
      ]
     },
     "execution_count": 41,
     "metadata": {},
     "output_type": "execute_result"
    }
   ],
   "execution_count": 41
  },
  {
   "metadata": {},
   "cell_type": "markdown",
   "source": "# tensorboard --logdir=logs\n",
   "id": "4e1e0f7778265196"
  },
  {
   "metadata": {},
   "cell_type": "code",
   "outputs": [],
   "execution_count": null,
   "source": "",
   "id": "68eba639a8371d71"
  }
 ],
 "metadata": {
  "kernelspec": {
   "display_name": "Python 3",
   "language": "python",
   "name": "python3"
  },
  "language_info": {
   "codemirror_mode": {
    "name": "ipython",
    "version": 2
   },
   "file_extension": ".py",
   "mimetype": "text/x-python",
   "name": "python",
   "nbconvert_exporter": "python",
   "pygments_lexer": "ipython2",
   "version": "2.7.6"
  }
 },
 "nbformat": 4,
 "nbformat_minor": 5
}
